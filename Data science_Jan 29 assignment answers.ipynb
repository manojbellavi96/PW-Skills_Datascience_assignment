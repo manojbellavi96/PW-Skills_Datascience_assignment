{
 "cells": [
  {
   "cell_type": "markdown",
   "id": "7d1ea95c-ef40-487a-a552-2cf891cdd9fa",
   "metadata": {},
   "source": [
    "Data science-Jan 29 assignment answers"
   ]
  },
  {
   "cell_type": "markdown",
   "id": "03028b60-d998-4065-9bfd-db7c0dfdf63e",
   "metadata": {},
   "source": [
    "1. Guido van Rossum."
   ]
  },
  {
   "cell_type": "markdown",
   "id": "e1fcf033-f982-44e5-9f39-40d1361a4948",
   "metadata": {},
   "source": [
    "2. Python is a multi-paradigm programming language where Object-oriented programming and structured programming are fully supported, and many of their features support functional programming and aspect-oriented programming"
   ]
  },
  {
   "cell_type": "markdown",
   "id": "f29fe186-51e7-4360-9f3c-28e119416860",
   "metadata": {},
   "source": [
    "3. Yes"
   ]
  },
  {
   "cell_type": "markdown",
   "id": "2d1a6951-9d26-4f70-a7de-00002b7e9392",
   "metadata": {},
   "source": [
    "4. .py"
   ]
  },
  {
   "cell_type": "markdown",
   "id": "47a4543d-ab15-4d3a-82b7-accc06e82aae",
   "metadata": {},
   "source": [
    "5. Interpreted"
   ]
  },
  {
   "cell_type": "markdown",
   "id": "91a022c4-8271-4c8f-85d0-2d52025132a2",
   "metadata": {},
   "source": [
    "6. The following are blocks: a module, a function body, and a class definition. Each command typed interactively is a block."
   ]
  },
  {
   "cell_type": "markdown",
   "id": "9f88ee2e-00c4-4f51-b7c6-5e25f6ad9e9d",
   "metadata": {},
   "source": [
    "7. #"
   ]
  },
  {
   "cell_type": "markdown",
   "id": "03231c18-3069-4002-a332-2695719dc5e6",
   "metadata": {},
   "source": [
    "8. python_version()"
   ]
  },
  {
   "cell_type": "markdown",
   "id": "31c8918b-a4b0-4818-b9cb-f47c335724cb",
   "metadata": {},
   "source": [
    "9. lambda"
   ]
  },
  {
   "cell_type": "markdown",
   "id": "e40c0fde-017a-4bae-9e04-f85aa406ebf2",
   "metadata": {},
   "source": [
    "10. preferred installer program"
   ]
  },
  {
   "cell_type": "markdown",
   "id": "56bd1fba-3533-4127-b22d-ceb6c2520590",
   "metadata": {},
   "source": [
    "11. print(), bool(), abs(), input()"
   ]
  },
  {
   "cell_type": "markdown",
   "id": "ea4bcce6-b97a-4cb8-9483-cff3c97a8220",
   "metadata": {},
   "source": [
    "12. 79"
   ]
  },
  {
   "cell_type": "markdown",
   "id": "7d0c424f-1a1e-4d59-8800-182673395ccf",
   "metadata": {},
   "source": [
    "13. \n",
    "a. Simple to Use and Understand.\n",
    "b. Free and Open-Source. Video Player is loading.\n",
    "c. Productivity has Increased.\n",
    "d. Interpreted Language.\n",
    "e. Extensive library.\n",
    "f. Dynamically Typed.\n",
    "g. Portability.\n",
    "h. Supportive community."
   ]
  },
  {
   "cell_type": "markdown",
   "id": "d35633d4-af20-4d1b-b297-72ef4c559a29",
   "metadata": {},
   "source": [
    "14. Memory management in Python involves the management of a private heap. A private heap is a portion of memory that is exclusive to the Python process."
   ]
  },
  {
   "cell_type": "markdown",
   "id": "1ed84070-3eba-455f-935a-b3ece5381da8",
   "metadata": {},
   "source": [
    "15. Search for anaconda navigator in the search engine, install the .exe file based on type of OS and then in course of installation, set up the path where the python should gets installed."
   ]
  },
  {
   "cell_type": "markdown",
   "id": "e130e319-eb01-4366-96dc-329128deb31d",
   "metadata": {},
   "source": [
    "16. Yes"
   ]
  }
 ],
 "metadata": {
  "kernelspec": {
   "display_name": "Python 3 (ipykernel)",
   "language": "python",
   "name": "python3"
  },
  "language_info": {
   "codemirror_mode": {
    "name": "ipython",
    "version": 3
   },
   "file_extension": ".py",
   "mimetype": "text/x-python",
   "name": "python",
   "nbconvert_exporter": "python",
   "pygments_lexer": "ipython3",
   "version": "3.10.8"
  }
 },
 "nbformat": 4,
 "nbformat_minor": 5
}
